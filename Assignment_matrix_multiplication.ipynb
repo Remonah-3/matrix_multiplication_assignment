{
  "nbformat": 4,
  "nbformat_minor": 0,
  "metadata": {
    "colab": {
      "provenance": [],
      "authorship_tag": "ABX9TyM6seSpe3PEs7Xu7MyzytOc",
      "include_colab_link": true
    },
    "kernelspec": {
      "name": "python3",
      "display_name": "Python 3"
    },
    "language_info": {
      "name": "python"
    }
  },
  "cells": [
    {
      "cell_type": "markdown",
      "metadata": {
        "id": "view-in-github",
        "colab_type": "text"
      },
      "source": [
        "<a href=\"https://colab.research.google.com/github/Remonah-3/matrix_multiplication_assignment/blob/main/Assignment_matrix_multiplication.ipynb\" target=\"_parent\"><img src=\"https://colab.research.google.com/assets/colab-badge.svg\" alt=\"Open In Colab\"/></a>"
      ]
    },
    {
      "cell_type": "code",
      "execution_count": 11,
      "metadata": {
        "colab": {
          "base_uri": "https://localhost:8080/"
        },
        "id": "vwlwM6oIkEl7",
        "outputId": "2ecfc4e7-2b55-4590-d6b0-78b06cda6c1c"
      },
      "outputs": [
        {
          "output_type": "stream",
          "name": "stdout",
          "text": [
            "Matrix A\n",
            "[[-1  2  3]\n",
            " [ 4 -5  6]\n",
            " [ 7  8 -9]]\n",
            "Matrix B\n",
            "[[ 0  2  1]\n",
            " [ 0  2 -8]\n",
            " [ 2  9 -1]]\n"
          ]
        }
      ],
      "source": [
        "import numpy as np\n",
        "\n",
        "A = np.array([[-1, 2, 3],\n",
        "              [4, -5, 6],\n",
        "              [7, 8, -9]])\n",
        "\n",
        "B = np.array([[0, 2, 1],\n",
        "              [0, 2, -8],\n",
        "              [2, 9, -1]])\n",
        "\n",
        "print(\"Matrix A\")\n",
        "print(A)\n",
        "print(\"Matrix B\")\n",
        "print(B)"
      ]
    },
    {
      "cell_type": "code",
      "source": [
        "C1 = np.matmul(A, B)\n",
        "print(\"A x B using np.matmul\")\n",
        "print(C1)\n",
        "C2 = np.dot(A, B)\n",
        "print(\"A x B using np.dot\")\n",
        "print(C2)\n",
        "C3 = A @ B\n",
        "print(\"A x B using @ operator\")\n",
        "print(C3)"
      ],
      "metadata": {
        "colab": {
          "base_uri": "https://localhost:8080/"
        },
        "id": "gD8LPjuOkM6n",
        "outputId": "87441994-7b3c-43ff-82b5-0f215f0fa548"
      },
      "execution_count": 12,
      "outputs": [
        {
          "output_type": "stream",
          "name": "stdout",
          "text": [
            "A x B using np.matmul\n",
            "[[  6  29 -20]\n",
            " [ 12  52  38]\n",
            " [-18 -51 -48]]\n",
            "A x B using np.dot\n",
            "[[  6  29 -20]\n",
            " [ 12  52  38]\n",
            " [-18 -51 -48]]\n",
            "A x B using @ operator\n",
            "[[  6  29 -20]\n",
            " [ 12  52  38]\n",
            " [-18 -51 -48]]\n"
          ]
        }
      ]
    },
    {
      "cell_type": "code",
      "source": [
        "def matmul_scratch(a, b):\n",
        "    result = np.zeros((a.shape[0], b.shape[1]))\n",
        "\n",
        "    for i in range(a.shape[0]):\n",
        "        for j in range(b.shape[1]):\n",
        "            for k in range(a.shape[1]):\n",
        "                result[i, j] += a[i, k] * b[k, j]\n",
        "    return result\n",
        "\n",
        "C_scratch = matmul_scratch(A, B)\n",
        "print(\"A x B using scratch method\")\n",
        "print(C_scratch)"
      ],
      "metadata": {
        "colab": {
          "base_uri": "https://localhost:8080/"
        },
        "id": "lBSJ5bAWkVB4",
        "outputId": "2ff1c562-156e-41d8-ac8b-28ae79aab64b"
      },
      "execution_count": 13,
      "outputs": [
        {
          "output_type": "stream",
          "name": "stdout",
          "text": [
            "A x B using scratch method\n",
            "[[  6.  29. -20.]\n",
            " [ 12.  52.  38.]\n",
            " [-18. -51. -48.]]\n"
          ]
        }
      ]
    },
    {
      "cell_type": "code",
      "source": [
        "def multiplicable(a, b):\n",
        "    if a.shape[1] != b.shape[0]:\n",
        "        print(\"Cannot multiply: number of columns in A != number of rows in B\")\n",
        "        return False\n",
        "    return True\n",
        "\n",
        "D = np.array([[-1, 2, 3],\n",
        "              [4, -5, 6]])\n",
        "\n",
        "E = np.array([[-9, 8, 7],\n",
        "              [6, -5, 4]])\n",
        "\n",
        "if multiplicable(D, E):\n",
        "    print(np.matmul(D, E))"
      ],
      "metadata": {
        "colab": {
          "base_uri": "https://localhost:8080/"
        },
        "id": "z141gUKkkb8X",
        "outputId": "19d8368c-fa0a-4cad-ca2c-08a2a1dbe9ac"
      },
      "execution_count": 14,
      "outputs": [
        {
          "output_type": "stream",
          "name": "stdout",
          "text": [
            "Cannot multiply: number of columns in A != number of rows in B\n"
          ]
        }
      ]
    },
    {
      "cell_type": "code",
      "source": [
        "E_transposed = E.T\n",
        "\n",
        "result_transpose = np.matmul(D, E_transposed)\n",
        "print(\"D x E_transposed\")\n",
        "print(result_transpose)"
      ],
      "metadata": {
        "colab": {
          "base_uri": "https://localhost:8080/"
        },
        "id": "MXhNjfdrkwEL",
        "outputId": "1872a958-bd33-4049-f99a-02043a1b0c40"
      },
      "execution_count": 15,
      "outputs": [
        {
          "output_type": "stream",
          "name": "stdout",
          "text": [
            "D x E_transposed\n",
            "[[ 46  -4]\n",
            " [-34  73]]\n"
          ]
        }
      ]
    }
  ]
}